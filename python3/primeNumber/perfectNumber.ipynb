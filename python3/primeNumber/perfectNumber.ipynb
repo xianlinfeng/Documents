{
  "cells": [{
      "cell_type": "code",
      "execution_count": 1,
      "metadata": {},
      "outputs": [],
      "source": [
        "import multiprocessing as mp\n",
        "\n",
        "def fector(n):\n",
        "    l = []\n",
        "    for i in range (1,n):\n",
        "        if n%i == 0:\n",
        "            l.append(i)\n",
        "    return l\n",
        "def is_complete(n):\n",
        "    l = fector(n)\n",
        "    s = 0\n",
        "    for i in l:\n",
        "        s += i\n",
        "    if s == n:\n",
        "        return s\n",
        "    else:\n",
        "        return\n",
        "def get_complete(m):\n",
        "    pool = mp.Pool(processes = 8)\n",
        "    results = [pool.apply_async(is_complete,[i]) for i in range (1,(m+1))]\n",
        "    output = [p.get() for p in results]\n",
        "    for i in output:\n",
        "        if i != None:\n",
        "            print(i)\n"
      ]
    },
    {
      "cell_type": "code",
      "execution_count": 2,
      "metadata": {
        "scrolled": false
      },
      "outputs": [{
        "name": "stdout",
        "output_type": "stream",
        "text": [
          "6\n",
          "28\n",
          "496\n",
          "8128\n"
        ]
      }],
      "source": [
        "get_complete(10000)"
      ]
    },
    {
      "cell_type": "code",
      "execution_count": 3,
      "metadata": {},
      "outputs": [{
        "data": {
          "text/plain": [
            "[1, 2, 4, 8, 16, 32, 64, 127, 254, 508, 1016, 2032, 4064]"
          ]
        },
        "execution_count": 3,
        "metadata": {},
        "output_type": "execute_result"
      }],
      "source": [
        "fector(8128)"
      ]
    },
    {
      "cell_type": "code",
      "execution_count": null,
      "metadata": {},
      "outputs": [],
      "source": []
    }
  ],
  "metadata": {
    "kernelspec": {
      "display_name": "Python 3",
      "language": "python",
      "name": "python3"
    },
    "language_info": {
      "codemirror_mode": {
        "name": "ipython",
        "version": 3
      },
      "file_extension": ".py",
      "mimetype": "text/x-python",
      "name": "python",
      "nbconvert_exporter": "python",
      "pygments_lexer": "ipython3",
      "version": "3.7.2"
    }
  },
  "nbformat": 4,
  "nbformat_minor": 2
}
