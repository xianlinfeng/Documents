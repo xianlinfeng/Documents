{
 "cells": [
  {
   "cell_type": "code",
   "execution_count": 3,
   "metadata": {},
   "outputs": [
    {
     "name": "stdout",
     "output_type": "stream",
     "text": [
      "[244, 921, 287, 356, 905, 794, 99, 307, 766, 269, 219, 186, 689, 917, 414, 770, 308, 524, 161, 617, 106, 211, 109, 109, 94, 881, 440, 883, 321, 901, 231, 603, 504, 651, 264, 912, 282, 719, 444]\n"
     ]
    }
   ],
   "source": [
    "f = open(\"smallnumber\",'r')\n",
    "str = f.read()\n",
    "f.close()\n",
    "# read the file\n",
    "\n",
    "D = list()\n",
    "for i in range(0,(len(str)+1),3):\n",
    "    s = str[i:(i+3)]\n",
    "    if(len(s)==3):\n",
    "        D.append(int(s))\n",
    "print(D)\n",
    "# set a big dataset\n"
   ]
  },
  {
   "cell_type": "code",
   "execution_count": 158,
   "metadata": {},
   "outputs": [],
   "source": [
    "D = [55,30,68,39,1,\n",
    "      4,49,90,34,76,\n",
    "      82,56,31,25,78,\n",
    "      56,38,32,88,9,\n",
    "      44,98,11,70,66,\n",
    "      89,99,22,23,26]"
   ]
  },
  {
   "cell_type": "code",
   "execution_count": 5,
   "metadata": {},
   "outputs": [
    {
     "data": {
      "text/plain": [
       "[[244, 766, 308, 94, 504],\n",
       " [921, 269, 524, 881, 651],\n",
       " [287, 219, 161, 440, 264],\n",
       " [356, 186, 617, 883, 912],\n",
       " [905, 689, 106, 321, 282],\n",
       " [794, 917, 211, 901, 719],\n",
       " [99, 414, 109, 231, 444],\n",
       " [307, 770, 109, 603]]"
      ]
     },
     "execution_count": 5,
     "metadata": {},
     "output_type": "execute_result"
    }
   ],
   "source": [
    "# Round-robin data partitionining function\n",
    "def rr(data,n):\n",
    "    results = []\n",
    "    for i in range(n):\n",
    "        results.append([])\n",
    "    \n",
    "    \n",
    "    \n",
    "    index = 0 \n",
    "    for i in range(0,len(data),n):\n",
    "        for j in range(n):\n",
    "            if(index < len(data)):\n",
    "                results[j].append(data[index])\n",
    "                index += 1\n",
    "    return results\n",
    "\n",
    "\n",
    "rr(D,8)\n"
   ]
  },
  {
   "cell_type": "code",
   "execution_count": 34,
   "metadata": {},
   "outputs": [
    {
     "data": {
      "text/plain": [
       "{4: {244, 308, 356, 444, 524},\n",
       " 1: {161, 321, 617, 689, 881, 905, 921},\n",
       " 7: {231, 287, 719},\n",
       " 2: {106, 186, 282, 770, 794},\n",
       " 3: {99, 211, 219, 307, 603, 651, 883},\n",
       " 6: {94, 414, 766},\n",
       " 5: {109, 269, 901, 917},\n",
       " 0: {264, 440, 504, 912}}"
      ]
     },
     "execution_count": 34,
     "metadata": {},
     "output_type": "execute_result"
    }
   ],
   "source": [
    "# Hash data partitioning\n",
    "def hash(x,n):\n",
    "    # define a hash function\n",
    "    result = x%n\n",
    "    return result\n",
    "\n",
    "def hash_part(data,n):\n",
    "    # define a hash partition function where data is a list type,and n\n",
    "    # is the number of processers\n",
    "    dic = {}\n",
    "    for x in data:\n",
    "        h = hash(x,n)\n",
    "        if(h in dic.keys()):\n",
    "            s = dic[h]\n",
    "            s.add(x)\n",
    "            dic[h] = s\n",
    "        else:\n",
    "            s = set()\n",
    "            s.update({x})\n",
    "            dic[h] = s\n",
    "    return dic\n",
    "hash_part(D,8)"
   ]
  },
  {
   "cell_type": "code",
   "execution_count": 65,
   "metadata": {},
   "outputs": [
    {
     "data": {
      "text/plain": [
       "[[1, 4, 9, 11, 22, 23, 25, 26, 30, 31, 32, 34, 38, 39],\n",
       " [44, 49, 55, 56, 56, 66, 68, 70, 76, 78],\n",
       " [82, 88, 89, 90, 98, 99]]"
      ]
     },
     "execution_count": 65,
     "metadata": {},
     "output_type": "execute_result"
    }
   ],
   "source": [
    "# range partitioning\n",
    "def range_part(data,indices):\n",
    "    # define a range partitioning function which return the subsets of data\n",
    "    \n",
    "    result = []\n",
    "    new_data = list(data)\n",
    "    new_data.sort()\n",
    "    indices.append((new_data[-1])+1)\n",
    "    \n",
    "    for l in range (len(indices)):\n",
    "        s = [x for x in new_data if x < indices[l]]\n",
    "        result.append(s)\n",
    "        leng = len(s)\n",
    "        new_data = new_data[leng:]\n",
    "    return result\n",
    "\n",
    "range_part(D,[40,80])\n",
    "    \n",
    "    "
   ]
  },
  {
   "cell_type": "code",
   "execution_count": 146,
   "metadata": {},
   "outputs": [
    {
     "data": {
      "text/plain": [
       "{0: [76, 56, 25, 23],\n",
       " 1: [68, 9, 98, 99],\n",
       " 2: [30, 1, 70, 66],\n",
       " 3: [56, 11, 89, 22],\n",
       " 4: [82],\n",
       " 5: [88],\n",
       " 6: [55, 38, 44, 26],\n",
       " 7: [39, 4, 49, 90, 34, 31, 78, 32]}"
      ]
     },
     "execution_count": 146,
     "metadata": {},
     "output_type": "execute_result"
    }
   ],
   "source": [
    "# Random-unequal data partitioning function\n",
    "import random\n",
    "def re_part(data,n):\n",
    "    \n",
    "    result = []\n",
    "    \n",
    "    \"\"\" code start here\"\"\"\n",
    "    dic = {}\n",
    "    for i in range (n):\n",
    "        dic[i] = []\n",
    "        \n",
    "    \n",
    "    code = random.randint(0,n)\n",
    "    for i in data:\n",
    "        code = random.randint(0,(n-1))\n",
    "        # dic[code].update(i)\n",
    "        dic[code].append(i)   \n",
    "    \n",
    "    \"\"\" code end here\"\"\"\n",
    "    return dic\n",
    "\n",
    "re_part(D,8)"
   ]
  },
  {
   "cell_type": "code",
   "execution_count": 154,
   "metadata": {},
   "outputs": [
    {
     "data": {
      "text/plain": [
       "(13, True)"
      ]
     },
     "execution_count": 154,
     "metadata": {},
     "output_type": "execute_result"
    }
   ],
   "source": [
    "# linear search function\n",
    "def linear_search(data,key):\n",
    "    matched = False\n",
    "    position = -1\n",
    "    \n",
    "    for x in data:\n",
    "        if x == key:\n",
    "            matched = True\n",
    "            position = data.index(x)\n",
    "            break\n",
    "    return position, matched\n",
    "\n",
    "linear_search(D,25)"
   ]
  },
  {
   "cell_type": "code",
   "execution_count": 179,
   "metadata": {},
   "outputs": [
    {
     "data": {
      "text/plain": [
       "(9, True)"
      ]
     },
     "execution_count": 179,
     "metadata": {},
     "output_type": "execute_result"
    }
   ],
   "source": [
    "# binary search function\n",
    "def binary_search(data, key):\n",
    "    matched_record = False\n",
    "    position = -1 # not found position\n",
    "    \n",
    "    lower = 0\n",
    "    middle = 0\n",
    "    upper = len(data)-1\n",
    "    \n",
    "    \n",
    "    \"\"\" start code here\"\"\"\n",
    "    while (lower <= upper):\n",
    "        # calculate middle: the half of lower and upper\n",
    "        middle = int((lower + upper)/2)\n",
    "        if key == data[middle]:\n",
    "            position = middle\n",
    "            matched_record = True\n",
    "            break\n",
    "        elif middle == upper or middle == lower:\n",
    "            break\n",
    "        elif key < data[middle]:\n",
    "            upper = middle\n",
    "        elif key > data[middle]:\n",
    "            lower = middle      \n",
    "        \n",
    "    \"\"\" end code here\"\"\"\n",
    "    \n",
    "    return position, matched_record\n",
    "\n",
    "sortD = list(D)\n",
    "sortD.sort()\n",
    "binary_search(sortD,31)\n",
    "    "
   ]
  },
  {
   "cell_type": "code",
   "execution_count": 180,
   "metadata": {},
   "outputs": [],
   "source": [
    "from multiprocessing import Pool\n",
    "def parallel_search_exact(data,query, n_processor, m_partition, m_search):\n",
    "    result = []\n",
    "    pool = Pool(processes=n_processor)\n",
    "    \n",
    "    \"\"\"start code here \"\"\"\n",
    "    print(f\"data partitioning is {m_partition.__name__}\")\n",
    "    print(\"searching method {m_search.__name__}\")\n",
    "    \n",
    "    if m_partition == range_part:\n",
    "        indices = [40,80]\n",
    "        DD = m_partition(data,indices)\n",
    "        for ind\n",
    "    \n",
    "    \n",
    "    \n",
    "    \n",
    "    \"\"\" end code here \"\"\""
   ]
  },
  {
   "cell_type": "code",
   "execution_count": null,
   "metadata": {},
   "outputs": [],
   "source": []
  },
  {
   "cell_type": "code",
   "execution_count": null,
   "metadata": {},
   "outputs": [],
   "source": []
  },
  {
   "cell_type": "code",
   "execution_count": null,
   "metadata": {},
   "outputs": [],
   "source": []
  },
  {
   "cell_type": "code",
   "execution_count": null,
   "metadata": {},
   "outputs": [],
   "source": []
  },
  {
   "cell_type": "code",
   "execution_count": null,
   "metadata": {},
   "outputs": [],
   "source": []
  },
  {
   "cell_type": "code",
   "execution_count": null,
   "metadata": {},
   "outputs": [],
   "source": []
  }
 ],
 "metadata": {
  "kernelspec": {
   "display_name": "Python 3",
   "language": "python",
   "name": "python3"
  },
  "language_info": {
   "codemirror_mode": {
    "name": "ipython",
    "version": 3
   },
   "file_extension": ".py",
   "mimetype": "text/x-python",
   "name": "python",
   "nbconvert_exporter": "python",
   "pygments_lexer": "ipython3",
   "version": "3.7.1"
  }
 },
 "nbformat": 4,
 "nbformat_minor": 2
}
