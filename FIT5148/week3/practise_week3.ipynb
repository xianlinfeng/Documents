{
 "cells": [
  {
   "cell_type": "code",
   "execution_count": 20,
   "metadata": {},
   "outputs": [],
   "source": [
    "f = open(\"smallnumber\",'r')\n",
    "str = f.read()\n",
    "f.close()\n",
    "# read the file\n",
    "\n",
    "D = list()\n",
    "for i in range(0,(len(str)+1),5):\n",
    "    s = str[i:(i+5)]\n",
    "    if(len(s)==5):\n",
    "        D.append(int(s))\n",
    "# set a big dataset\n",
    "    "
   ]
  },
  {
   "cell_type": "code",
   "execution_count": 21,
   "metadata": {},
   "outputs": [
    {
     "name": "stdout",
     "output_type": "stream",
     "text": [
      "[[24492, 17414, 8833], [12873, 77030, 21901], [56905, 85241, 23160], [79409, 61617, 35046], [93077, 10621, 51264], [66269, 11091, 91228], [21918, 9094, 27194], [66899, 88144]]\n"
     ]
    }
   ],
   "source": [
    "# Round-robin data partitionining function\n",
    "def rr(data,n):\n",
    "    results = []\n",
    "    for i in range(n):\n",
    "        results.append([])\n",
    "    index = 0\n",
    "    for i in range(0,len(data),n):\n",
    "        for j in range(n):\n",
    "            if(index < len(data)):\n",
    "                results[j].append(data[index])\n",
    "                index += 1\n",
    "    return results\n",
    "\n",
    "res = rr(D,8)\n",
    "print(res)"
   ]
  },
  {
   "cell_type": "code",
   "execution_count": null,
   "metadata": {},
   "outputs": [],
   "source": [
    "import multiprocessing as mp \n",
    "pool = pool = mp.Pool(processes = 8)\n",
    "results = pool.map(cube, range(1,5))"
   ]
  }
 ],
 "metadata": {
  "kernelspec": {
   "display_name": "Python 3",
   "language": "python",
   "name": "python3"
  },
  "language_info": {
   "codemirror_mode": {
    "name": "ipython",
    "version": 3
   },
   "file_extension": ".py",
   "mimetype": "text/x-python",
   "name": "python",
   "nbconvert_exporter": "python",
   "pygments_lexer": "ipython3",
   "version": "3.7.1"
  }
 },
 "nbformat": 4,
 "nbformat_minor": 2
}
