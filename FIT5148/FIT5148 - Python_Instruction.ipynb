{
 "cells": [
  {
   "cell_type": "markdown",
   "metadata": {
    "colab_type": "text",
    "id": "GWY5VV9V1-WJ"
   },
   "source": [
    "# FIT5148 - Big data management and processing\n",
    "\n",
    "# Introduction to Python for FIT5148 Activities#\n",
    "\n",
    "In this activity, we will learn and practice some of the useful syntax and functionalities in **Python** that will help you to go through activities for FIT5148 throughout the semester. Python is a popular, powerful open-source programming language for building data science applications.\n",
    "\n",
    "Throughout the semester, we will use the **Jupyter notebook** that provides an interactive environment for writing and running code (e.g. Python and R). Each notebook is associated with a single kernel. As we will be using Python, this notebook is associated with the IPython kernel. If you run your Python code, make sure that you have chosen the **\"Python 3\"** kernel on Jupyter notebook (see the upper-right corner of this notebook for this checking); and also, you need to add the code using **\"Code\"** cells, not **\"Markdown\"** cells. Markdown is a popular markup language that is a superset of HTML.\n",
    "\n",
    "Python is an interpreted programming language. Thus, you can simply write commands directly into the interpreter and execute them. We will be using Python 3. **The following is the plan of our tasks to be done this week**:\n",
    "- Basic Python syntax and commands\n",
    "- Basic data structure\n",
    "- Defining classes and functions\n",
    "- Usage of the loop statements\n",
    "- Useful built-in functions and defining lambda functions\n",
    "- Multi-processing functions\n",
    "\n",
    "Let's get started!"
   ]
  },
  {
   "cell_type": "markdown",
   "metadata": {
    "colab_type": "text",
    "id": "v0bdD4Qs1-WK"
   },
   "source": [
    "<font color='blue'>\n",
    "**What you need to remember**:\n",
    "- Run your cells using SHIFT+ENTER (or \"Run cell\")\n",
    "- Run the current cell and insert a new cell below: ALT+ENTER\n",
    "- To see more commands, please click the \"menu\" option (e.g. \"Insert\", \"Cell\")\n",
    "- To see more keyboard shortcuts, click the above \"keyboard image\" button. Use \"Esc\" to enter command mode. Then, you can use a command. Some of the popular shortcuts are \n",
    "    - Basic navigation: enter, shift-enter, up/k, down/j\n",
    "    - Saving the notebook: s\n",
    "    - Cell creation: a (above), b (below)"
   ]
  },
  {
   "cell_type": "markdown",
   "metadata": {
    "colab_type": "text",
    "id": "UCEbrc5G1-WP"
   },
   "source": [
    "## 1. Basic Python Syntax ##\n",
    "\n",
    "### Import\n",
    "We can import a module using command `import`. For example, if we want to import a module (numpy), then we can use the following code: `import numpy as np`. Here, we can use \"`as`\" to remame the module.\n",
    "\n",
    "### Print \n",
    "Let's first print a string, \"Hello World!\". You need to use the print statement with parenthesis: \n",
    "```\n",
    "print(\"Hello World!\")\n",
    "```\n",
    "Execute this command in a new cell (i.e. add a new cell below)."
   ]
  },
  {
   "cell_type": "markdown",
   "metadata": {
    "colab_type": "text",
    "id": "7adH_e7q1-WQ"
   },
   "source": [
    "### Defining variables and assigning them values\n",
    "In Python, we can define variables without a type. Run the code below into the next cell:\n",
    "```\n",
    "number = 3.14\n",
    "message = \"this is a string message\"\n",
    "print (message, 3.14 - 3.14/10)\n",
    "```"
   ]
  },
  {
   "cell_type": "markdown",
   "metadata": {
    "colab_type": "text",
    "id": "Aw-qNP581-WR"
   },
   "source": [
    "Have you undertood what the above fomula is producing now?"
   ]
  },
  {
   "cell_type": "markdown",
   "metadata": {
    "colab_type": "text",
    "id": "mJF79TXs1-WS"
   },
   "source": [
    "### Comments\n",
    "Note that we can the \"#\" character to add a comment to the Python script. The rest of the line after \"#\" is ignored. Run each of the following lines and see the result:\n",
    "```\n",
    "# query1 = this is a comment\n",
    "print(query1)\n",
    "question2=\"# is this a not comment\"\n",
    "print(query2)\n",
    "```"
   ]
  },
  {
   "cell_type": "markdown",
   "metadata": {
    "colab_type": "text",
    "id": "EdjzaJG_1-WS"
   },
   "source": [
    "### Using arithmatic operations"
   ]
  },
  {
   "cell_type": "markdown",
   "metadata": {
    "colab_type": "text",
    "id": "PxhZR87v1-WT"
   },
   "source": [
    "We can use simply Python code for calculation. You can type an expression and immediately after the Python interpreter will write the result. Run each line of the code below:\n",
    "```\n",
    "1+2\n",
    "10 - 2*3\n",
    "10/5\n",
    "5/2\n",
    "```"
   ]
  },
  {
   "cell_type": "markdown",
   "metadata": {
    "colab_type": "text",
    "id": "H8DWgAfU1-WU"
   },
   "source": [
    "Note division in Python always returns a float. To get an interger result disregarding any fractional number, you can use the \"//\" operator. Run each line of the code:\n",
    "```\n",
    "11/3\n",
    "11//3\n",
    "```"
   ]
  },
  {
   "cell_type": "markdown",
   "metadata": {
    "colab_type": "text",
    "id": "gPKJJqUt1-WV"
   },
   "source": [
    "To calculate the remainder, use \"%\". To calulator powers, use \"**\". Run each line of the code:\n",
    "```\n",
    "11%3\n",
    "2**5\n",
    "```"
   ]
  },
  {
   "cell_type": "markdown",
   "metadata": {
    "colab_type": "text",
    "id": "rb5oVa1m1-WV"
   },
   "source": [
    "Python also provides very useful built-in functions for arithmetic operations. Please see more details about it: https://docs.python.org/3.3/library/functions.html#round"
   ]
  },
  {
   "cell_type": "markdown",
   "metadata": {
    "colab_type": "text",
    "id": "SovCbtvY1-WW"
   },
   "source": [
    "### Comparison and Logical Operators\n",
    "The following explains the **comparison operators** with their usage. A comparison operator is used to compare one operand to another, and returns either True or False. \n",
    "\n",
    "- ==: Equality operator. Returns True if the two operands are equal.\n",
    "- !=: Inequality Operator. Returns True if the two operands are not equal.\n",
    "- <\tLess than. Returns True if the left-side operand is less than the right-side operand. \n",
    "- Can you guess how these work? >, <=, >=\n",
    "\n",
    "Run each line of the following code and see the result:\n",
    "```\n",
    "1 = 2\n",
    "1 != 2\n",
    "1 < 2\n",
    "1 <= 2\n",
    "1 > 2\n",
    "1 >= 2\n",
    "```"
   ]
  },
  {
   "cell_type": "markdown",
   "metadata": {
    "colab_type": "text",
    "id": "JlQ4pRCy1-WY"
   },
   "source": [
    "# Basic Data Structure\n",
    "\n",
    "We will learn about basic structure in Python. In particular, we will look into the following:\n",
    "- string\n",
    "- list\n",
    "- set\n",
    "- dictionary\n",
    "- NumPy\n",
    "\n",
    "### String\n",
    "Python easily handles strings. They can be enclosed in single quotes ('...') or double quotes (\"...\") with the same result. The character \"\\\" can be used to escape quotes.\n",
    "\n",
    "Run the code below:\n",
    "```\n",
    "\"hello world\"\n",
    "\"\\\"Yes\\\" he said\"\n",
    "\"\"Yes\" he said\"\n",
    "```"
   ]
  },
  {
   "cell_type": "markdown",
   "metadata": {
    "colab_type": "text",
    "id": "4hascYKQ1-WZ"
   },
   "source": [
    "String literals can span multiple lines by using triple-quotes: \"\"\"...\"\"\" or '''...'''\n",
    "\n",
    "```\n",
    "print(\"\"\"hello\n",
    "world\"\"\")\n",
    "```"
   ]
  },
  {
   "cell_type": "markdown",
   "metadata": {
    "colab_type": "text",
    "id": "c_Iyq44Y1-Wa"
   },
   "source": [
    "Strings can be cancatenated using \"+\". Run the code:\n",
    "```\n",
    "\"Py\" + \"thon\"\n",
    "```"
   ]
  },
  {
   "cell_type": "markdown",
   "metadata": {
    "colab_type": "text",
    "id": "159ccO2-1-Wc"
   },
   "source": [
    "Also, strings can be repeated using \"*\". For example, print \"a\" three times, run the code:\n",
    "```\n",
    "3 * \"a\"\n",
    "```"
   ]
  },
  {
   "cell_type": "markdown",
   "metadata": {
    "colab_type": "text",
    "id": "PbeFVsh81-Wc"
   },
   "source": [
    "We can also index strings. The first character has index 0. Run the code:\n",
    "```\n",
    "word = \"python\"\n",
    "word[0] \n",
    "word[5]\n",
    "```"
   ]
  },
  {
   "cell_type": "markdown",
   "metadata": {
    "colab_type": "text",
    "collapsed": true,
    "id": "bmAq2Dr61-Wd"
   },
   "source": [
    "Also, we can slice a string, which can be used to obtain substring. Run the code:\n",
    "```\n",
    "word[0:2]\n",
    "```"
   ]
  },
  {
   "cell_type": "markdown",
   "metadata": {
    "colab_type": "text",
    "id": "3Y2ihFnO1-We"
   },
   "source": [
    "How does it look like? When slicing, make sure that the first parameter is the index **included**, and the second parameter is the index **excluded**.\n",
    "\n",
    "If we omit the first index, the default is 0. If we omit the second index, the default is the size of thes string. Run each line of the code:\n",
    "```\n",
    "word[:2]\n",
    "word[3:]\n",
    "word[-2:]\n",
    "```"
   ]
  },
  {
   "cell_type": "markdown",
   "metadata": {
    "colab_type": "text",
    "id": "R1TtEsLF1-Wf"
   },
   "source": [
    "Note that the last example looks odd. It actually extracts the characters from the **second-last** to the end."
   ]
  },
  {
   "cell_type": "markdown",
   "metadata": {
    "colab_type": "text",
    "id": "jyViLgIm1-Wg"
   },
   "source": [
    "### Lists \n",
    "One of the compount data types is the list. In a list, a list of comma-separated items between brackets can be cotained. Run the code:\n",
    "```\n",
    "myList = [1, 3, 5, 7]\n",
    "myList\n",
    "```"
   ]
  },
  {
   "cell_type": "markdown",
   "metadata": {
    "colab_type": "text",
    "id": "BT91Kna61-Wh"
   },
   "source": [
    "Lists also can be indexed and sliced as strings. Run each line of the code:\n",
    "```\n",
    "myList[0]\n",
    "myList[-1] # the last element\n",
    "myList[1:]\n",
    "myList[:]\n",
    "```"
   ]
  },
  {
   "cell_type": "markdown",
   "metadata": {
    "colab_type": "text",
    "id": "ERLE40NL1-Wi"
   },
   "source": [
    "Also, we can apply concaternation on the lists. Run the code:\n",
    "```\n",
    "myList = myList + [9, 11]\n",
    "```"
   ]
  },
  {
   "cell_type": "markdown",
   "metadata": {
    "colab_type": "text",
    "id": "xk5yncsN1-Wk"
   },
   "source": [
    "Do you want to change an item in the list? Run the code:\n",
    "```\n",
    "myList[1] = 4\n",
    "```\n",
    "\n",
    "Check the elements of myList."
   ]
  },
  {
   "cell_type": "markdown",
   "metadata": {
    "colab_type": "text",
    "id": "864qxzA51-Wm"
   },
   "source": [
    "We can also add new items at the end of the list using `append()` method. Run the code:\n",
    "```\n",
    "myList.append(13)\n",
    "```"
   ]
  },
  {
   "cell_type": "markdown",
   "metadata": {
    "colab_type": "text",
    "id": "QkvSGEWq1-Wo"
   },
   "source": [
    "The length of the list can be obtained using a built-in function: `len()`. Print the length of myList!"
   ]
  },
  {
   "cell_type": "markdown",
   "metadata": {
    "colab_type": "text",
    "id": "wdmWOFTy1-Wo"
   },
   "source": [
    "One of the powerful functions is that we can create nested lists in a list. Run the code:\n",
    "```\n",
    "A = ['a', 'b', 'c']\n",
    "B = [1, 2, 3]\n",
    "C = [A, B]\n",
    "C\n",
    "C[0]\n",
    "C[0][1]\n",
    "```"
   ]
  },
  {
   "cell_type": "markdown",
   "metadata": {
    "colab_type": "text",
    "id": "KcgGUXAM1-Wp"
   },
   "source": [
    "Let's see how to delete an item in a list. In the above A, if we want to delete an item 'a', run the code:\n",
    "```\n",
    "A.remove('a')\n",
    "```\n",
    "\n",
    "Alternatively, we can delete an item using its index. Run the code:\n",
    "```\n",
    "del A[0]\n",
    "```"
   ]
  },
  {
   "cell_type": "markdown",
   "metadata": {
    "colab_type": "text",
    "id": "uxrrqZrg1-Wq"
   },
   "source": [
    "Also, we can get the index of an item. Run the code:\n",
    "    \n",
    "```\n",
    "A = ['a', 'b', 'c']\n",
    "A.index('b')\n",
    "```"
   ]
  },
  {
   "cell_type": "markdown",
   "metadata": {
    "colab_type": "text",
    "id": "iUHlgboc1-Wr"
   },
   "source": [
    "### Sets\n",
    "\n",
    "A set is an unordered list. And duplicate elements are not allowed to be contained in a set. Using a set, we can easily apply set operations such as union, intersection, and difference. Curly braces or the `set()` method can be used to create sets. Run the code:\n",
    "```\n",
    "A = {'a', 'b', 'c'}\n",
    "A\n",
    "A = {'a', 'b', 'c', 'c'}\n",
    "A\n",
    "```"
   ]
  },
  {
   "cell_type": "markdown",
   "metadata": {
    "colab_type": "text",
    "id": "3t207pkP1-Ws"
   },
   "source": [
    "Check the membership of an item in the set. Run the code:\n",
    "```\n",
    "'a' in A\n",
    "```"
   ]
  },
  {
   "cell_type": "markdown",
   "metadata": {
    "colab_type": "text",
    "id": "-CwagYP21-Ws"
   },
   "source": [
    "Now, let's how to use the set operations. Run the code:\n",
    "```\n",
    "A = {'a', 'b', 'c'}\n",
    "B = {'a', 'd'}\n",
    "A.union(B) (or A|B)\n",
    "A.intersection(B) (or A & B)\n",
    "A.difference(B) (or A - B)\n",
    "```"
   ]
  },
  {
   "cell_type": "markdown",
   "metadata": {
    "colab_type": "text",
    "id": "67pItynz1-Wu"
   },
   "source": [
    "Now let's see a difference between `union` and `update`. The `update` method changes the set in place, while the `union` leaves the original set alone, and returns a copy instead. Run the code:\n",
    "```\n",
    "AA = {'a', 'b'}\n",
    "BB = {'c'}\n",
    "AA.update(BB)\n",
    "print(AA)\n",
    "```\n",
    "\n",
    "```\n",
    "AA = {'a', 'b'}\n",
    "BB = {'c'}\n",
    "AA.union(BB)\n",
    "print(AA)\n",
    "```"
   ]
  },
  {
   "cell_type": "markdown",
   "metadata": {
    "colab_type": "text",
    "id": "NppWHKLg1-Wu"
   },
   "source": [
    "Let's add an item to a set using the `add()` method. Run the code:\n",
    "```\n",
    "A.add('d')\n",
    "A\n",
    "```"
   ]
  },
  {
   "cell_type": "markdown",
   "metadata": {
    "colab_type": "text",
    "id": "hHDus_sL1-Wv"
   },
   "source": [
    "### Dictionaries\n",
    "\n",
    "Another useful data structure is the dictionary. In a dictionary, items are indexed by **keys**. Key can be any immutable type such as string and numbers. Simply, a dictionary is an unordered set of **key-value** pairs where keys should be unique. A pair braces creates an empty dictionary (i.e. {}). \n",
    "\n",
    "The following examples show different ways to construct a dictionary. To know more about them, run the code:\n",
    "```\n",
    "contact = {}\n",
    "contact['a'] = 1\n",
    "contact\n",
    "contact2 = {'a':1, 'b':2}\n",
    "contact2\n",
    "contact3 = dict(a=1, b=2)\n",
    "contact3\n",
    "```"
   ]
  },
  {
   "cell_type": "markdown",
   "metadata": {
    "colab_type": "text",
    "id": "y775Qrcn1-Wx"
   },
   "source": [
    "Let's retrive the all keys. Run the code:\n",
    "```\n",
    "keys = contact2.keys()\n",
    "keys\n",
    "```"
   ]
  },
  {
   "cell_type": "markdown",
   "metadata": {
    "colab_type": "text",
    "id": "sxn8R6aj1-Wy"
   },
   "source": [
    "Also, if we want to create a list consisting of the key of a dictionary, run the following:\n",
    "```\n",
    "list(contact2.keys())\n",
    "```"
   ]
  },
  {
   "cell_type": "markdown",
   "metadata": {
    "colab_type": "text",
    "id": "1u4qJTKE1-Wz"
   },
   "source": [
    "If you want to check whether an item (e.g. 'a') is the dictionary or not, run the code:\n",
    "```\n",
    "'a' in contact2\n",
    "```"
   ]
  },
  {
   "cell_type": "markdown",
   "metadata": {
    "colab_type": "text",
    "id": "wQbXPoC_1-Wz"
   },
   "source": [
    "### NumPy Array\n",
    "\n",
    "Numpy os the core library for scientific computing in Python. It provides a high-performance multi-dimensional array object. However, in this unit, we will be using the NumPy library a little bit later on (in Week 5). For more information about NumPy, please refer to the following: https://docs.scipy.org/doc/numpy/reference/.\n",
    "\n",
    "To use this library, let's first import it:\n",
    "```\n",
    "import numpy as np\n",
    "```\n",
    "\n",
    "We can create a numpy 1-dim array as:\n",
    "```\n",
    "a = np.array([1,2,3]) # 1-dim array\n",
    "print (type(a)) # check the type of the array\n",
    "print (a.shape)\n",
    "print (a[0], a[1], a[2])\n",
    "print(a)\n",
    "```\n",
    "\n",
    "Let's create a 2-dim array:\n",
    "```\n",
    "b = np.array([[1,2,3],[4,5,6]])\n",
    "print(b.shape)\n",
    "print(b[0,0])\n",
    "```"
   ]
  },
  {
   "cell_type": "markdown",
   "metadata": {
    "colab_type": "text",
    "id": "6JINgmGK1-W0"
   },
   "source": [
    "Numpy also provides many functions to cretae arrays and manipulate array indexes. \n",
    "\n",
    "For example, to create a 2x2 array of all zeros, run the code:\n",
    "```\n",
    "c = np.zeros((2,2))\n",
    "print(a)\n",
    "```"
   ]
  },
  {
   "cell_type": "markdown",
   "metadata": {
    "colab_type": "text",
    "id": "8Pv9gd0N1-W1"
   },
   "source": [
    "Basic math functions can be used as follows:\n",
    "```\n",
    "x = np.array([[1,2], [3,4]])\n",
    "y = np.array([[5,6], [7,8]])\n",
    "print (x+y) # elementwise sum producing an array\n",
    "print(np.add(x,y)) # what about this?\n",
    "print (x-y) # elementwise differences producing an array\n",
    "print(np.subtract(x,y)) # what about this?\n",
    "print (x*y) # elementwise product producing an array\n",
    "print(np.multiply(x,y)) # what about this?\n",
    "print (x/y) # elementwise sum producing an array\n",
    "print(np.divide(x,y)) # what about this?\n",
    "print(np.sqrt(x)) # elementwise square root producing an array\n",
    "```"
   ]
  },
  {
   "cell_type": "markdown",
   "metadata": {
    "colab_type": "text",
    "id": "eKNeliVj1-W1"
   },
   "source": [
    "Here are some examples of a useful function that performs computations on arrays. It's `sum()`. Run the code:\n",
    "```\n",
    "x = np.array([[1,2], [3,4]])\n",
    "print(np.sum(x)) # sum of the all elements\n",
    "print(np.sum(x, axis=0)) # sum of each column\n",
    "print(np.sum(x, axis=1)) # sum of each row\n",
    "```"
   ]
  },
  {
   "cell_type": "markdown",
   "metadata": {
    "colab_type": "text",
    "id": "v33xw5y11-W2"
   },
   "source": [
    "# Defining Classes and Functions\n",
    "\n",
    "Python is a powerful object-oriented programming (OOP) language. In OOP, we try to create reusable patterns of code. One important concept in OOP is the distinction between classes and objects:\n",
    "- Class: A concept or prototype for an object, defining a set of attributes and functions that characterise an object instantiated from this class.\n",
    "- Object: An instance of a class.\n",
    "\n",
    "We can define a class by using the `class` keyword. Similarly, we can define its functions by using the `def` keyword. Let's create a class using the following code:\n",
    "\n",
    "```\n",
    "class myClass:\n",
    "    name = \"A\"\n",
    "    def myFunc (self):\n",
    "        return \"hello world!\"\n",
    "```"
   ]
  },
  {
   "cell_type": "markdown",
   "metadata": {
    "colab_type": "text",
    "id": "CYsTqRUP1-W3"
   },
   "source": [
    "In the `myClass` class, the function `myFunc` is called a method as well. A method is often called to be a special function defined within a class. Note that the argument is `self` that is a reference to objects that are made based on this class. To reference instances (or objects) of the class, `self` will always be the first parameter.\n",
    "\n",
    "Defining this class did not create any `myClass` objects. Instead, we need to create an object using the class. Now we create an object that is an instance of the `myClass` class:\n",
    "```\n",
    "x = myClass()\n",
    "```\n",
    "\n",
    "Then, we can use its method(s) using the dot operator:\n",
    "```\n",
    "x.myFunc()\n",
    "```"
   ]
  },
  {
   "cell_type": "markdown",
   "metadata": {
    "colab_type": "text",
    "id": "gw1rhWP81-W4"
   },
   "source": [
    "The constructor method is used to initialise data in a class. It is run as soon as an object of a class is instantiated. Also known as the `__init__` method, it will be the first definition of a class and looks like this:\n",
    "```\n",
    "def __init__(self):\n",
    "    print(\"This is the constructor method.\")\n",
    "```\n",
    "\n",
    "Add this function in the class and run the code:\n",
    "```\n",
    "x = myClass()\n",
    "x.myFunc()\n",
    "```"
   ]
  },
  {
   "cell_type": "code",
   "execution_count": 0,
   "metadata": {
    "colab": {},
    "colab_type": "code",
    "id": "jygDH-Br1-W6"
   },
   "outputs": [],
   "source": [
    "Can you see how the construct works out?"
   ]
  },
  {
   "cell_type": "markdown",
   "metadata": {
    "colab_type": "text",
    "id": "CcwJafDT1-W_"
   },
   "source": [
    "Now, let’s create a method that uses a variable, `name` that we will add. We will assign it a a value in a method. Our new class will be like that:\n",
    "\n",
    "```\n",
    "class myClass:\n",
    "    name = \"\" # we will use this variable\n",
    "    \n",
    "    def __init__(self):\n",
    "        print(\"This is the constructor method.\")\n",
    "      \n",
    "    def assignName(self, name):\n",
    "        self.name = name\n",
    "  \n",
    "    def myFunc (self):\n",
    "        return \"hi \" + self.name + \": hello world!\"\n",
    "```\n",
    "\n",
    "Then, run the following code:\n",
    "```\n",
    "x = myClass()\n",
    "x.assignName(\"YB\")\n",
    "x.myFunc()\n",
    "```"
   ]
  },
  {
   "cell_type": "markdown",
   "metadata": {
    "colab_type": "text",
    "id": "bf94skoo1-XA"
   },
   "source": [
    "We learned how to create classes, instantiate objects, initialise attributes with the constructor method, and working with more than one object of the same class. OOP is an important concept when reusing code more straightforward and effectively, as objects created for one program can be used in another. "
   ]
  },
  {
   "cell_type": "markdown",
   "metadata": {
    "colab_type": "text",
    "id": "CnqJKYL-1-XB"
   },
   "source": [
    "# Usage of the Loop Statements\n",
    "\n",
    "Loops can help you to execute a block of code repeatedly. There are two types of loops in Python: (1) `for` and (2) `while`.\n",
    "\n",
    "### The for Loop\n",
    "For loops iterate over a list. Here is an example and run the code:\n",
    "\n",
    "```\n",
    "primes = [2, 3, 5, 7]\n",
    "for prime in primes:\n",
    "    print(prime)\n",
    "```"
   ]
  },
  {
   "cell_type": "markdown",
   "metadata": {
    "colab_type": "text",
    "id": "oSTqX6O61-XB"
   },
   "source": [
    "A `for` loop can iterate over a sequence of numbers with the \"`range`\" function. The `range` function returns a new list with numbers of that specified range. Note that the range function is zero based. Run the following examples to understand how the `for` loop is iterating using `range`.\n",
    "\n",
    "```\n",
    "for x in range(5):\n",
    "    print(x)\n",
    "```\n",
    "\n",
    "```\n",
    "for x in range(6, 10):\n",
    "    print(x)\n",
    "```"
   ]
  },
  {
   "cell_type": "markdown",
   "metadata": {
    "colab_type": "text",
    "id": "8rquQTln1-XD"
   },
   "source": [
    "Also, we can design a `for` loop statement using the `range` and `len` built-in functions. For example, the above example of printing the prime numbers can be also written in this way:\n",
    "```\n",
    "primes = [2, 3, 5, 7]\n",
    "for index in range(len(primes)):\n",
    "    print(primes[index])\n",
    "```\n",
    "\n",
    "Run the above code."
   ]
  },
  {
   "cell_type": "markdown",
   "metadata": {
    "colab_type": "text",
    "id": "t2LYEhTK1-XD"
   },
   "source": [
    "### The While Loop\n",
    "A `while` loop repeats as long as a certain condition is met. For example:\n",
    "\n",
    "```\n",
    "n = 0\n",
    "while n < 5:\n",
    "    print(n)\n",
    "    n += 1\n",
    "```\n",
    "\n",
    "Run the above code."
   ]
  },
  {
   "cell_type": "markdown",
   "metadata": {
    "colab_type": "text",
    "id": "23uERZmH1-XE"
   },
   "source": [
    "If necessary, we can use `break` exit a `for` loop or a `while` loop. On the other hand, `continue` can be used to skip the current block. For example:\n",
    "\n",
    "```\n",
    "n = 0\n",
    "while True:\n",
    "    print(n)\n",
    "    n += 1\n",
    "    if n >= 5:\n",
    "        break\n",
    "```\n",
    "\n",
    "The above example is the same with the following code using `continue`:\n",
    "```\n",
    "n = 0\n",
    "while True:\n",
    "    print(n)\n",
    "    n += 1\n",
    "    if n >= 5:\n",
    "        break\n",
    "    else:\n",
    "        continue\n",
    "```\n",
    "\n",
    "Run the above two pieces of the code."
   ]
  },
  {
   "cell_type": "markdown",
   "metadata": {
    "colab_type": "text",
    "id": "fhrFOMV-1-XF"
   },
   "source": [
    "# Useful built-in functions and defining lambda functions\n",
    "In this section, we will learn some of the useful built-in functions in Python.\n",
    "\n",
    "### abs\n",
    "`abs` return the absolute value of a numer. Run the code:\n",
    "```\n",
    "n = -21\n",
    "print(abs(n))\n",
    "```"
   ]
  },
  {
   "cell_type": "markdown",
   "metadata": {
    "colab_type": "text",
    "id": "em0TdQFK1-XG"
   },
   "source": [
    "### dict\n",
    "We've already learned how to use the dictionary function in the above activity. `dict()` creates a new data dictionary. There are several ways to create a dictionary. If no arguments are given, an empty dictionary is created. Also, we learned that we can use `dict()` with a tuple or list as its argument. \n",
    "\n",
    "It'd be the best to think that a dictionary can be seen as a two-element (key, value) pairs."
   ]
  },
  {
   "cell_type": "markdown",
   "metadata": {
    "colab_type": "text",
    "id": "xsELeDP41-XG"
   },
   "source": [
    "### enumerate\n",
    "We can use `enumerate()` to iterate an iterable object. It returns an enumerate object. More specifically, such an object can bee seen a list of tuples, each containing a pair of count/index and value. So this function is veru useful for using both index and value of each value in a list.\n",
    "\n",
    "To learn, what this function returns and how to use it, run the following code:\n",
    "```\n",
    "menu = ['pizza', 'pasta', 'hamburger']\n",
    "print(menu)\n",
    "print(list(menu))\n",
    "print(list(enumerate(menu)))\n",
    "```"
   ]
  },
  {
   "cell_type": "markdown",
   "metadata": {
    "colab_type": "text",
    "id": "e7jJc7nh1-XJ"
   },
   "source": [
    "Using the `for` loop, we can iterate the enumerate object. Look at and run the code:\n",
    "```\n",
    "for index, item in enumerate(menu):\n",
    "    print (index, item)\n",
    "\n",
    "```\n",
    "\n",
    "If you want to change the start index, for example, starting with 1, use the code below:\n",
    "```\n",
    "for index, item in enumerate(menu, 1):\n",
    "    print (index, item)\n",
    "\n",
    "```"
   ]
  },
  {
   "cell_type": "markdown",
   "metadata": {
    "colab_type": "text",
    "id": "3MjGnL-N1-XJ"
   },
   "source": [
    "### len\n",
    "We've already looked into how to use `len()`. It returns the length (i.e. the number of items) of an object."
   ]
  },
  {
   "cell_type": "markdown",
   "metadata": {
    "colab_type": "text",
    "id": "O6KZRBls1-XK"
   },
   "source": [
    "### min, max\n",
    "`max()` returns the maximum value in a given list while `min()` return the minimum. Run the code:\n",
    "```\n",
    "a = [1, 3, 5]\n",
    "print(max(a))\n",
    "print (min(a))\n",
    "```"
   ]
  },
  {
   "cell_type": "markdown",
   "metadata": {
    "colab_type": "text",
    "id": "wmRcx8yR1-XL"
   },
   "source": [
    "### str\n",
    "If you want to convert an integer value into a string, use `str()`. Run the code:\n",
    "```\n",
    "n = 10\n",
    "str(n)\n",
    "```"
   ]
  },
  {
   "cell_type": "markdown",
   "metadata": {
    "colab_type": "text",
    "id": "BREG6Q9f1-XN"
   },
   "source": [
    "### range\n",
    "\n",
    "We've already looked at how to use this function `range()` with a `for` loop. It actually generates a list of numbers used to iterate over with a `for` loop.\n",
    "\n",
    "The `range()` function has two sets of parameters. Let's look at how this function can be used with each case. \n",
    "\n",
    "1. `range(stop)`: `stop` is an integer number and it returns numbers starting from `0` to `stop` excluded. That is, `range(3) = [0, 1, 2]`. Run the code:\n",
    "    ```\n",
    "    for i in range(5):\n",
    "        print(i)\n",
    "    ```\n",
    "2. `range([start], stop, [step])`: `start`: starting number of the sequence, `stop`: the same with the above, `step`: indicating the interval between each number in the sequence. Note that `start` and `step` are optional parameters. Run the code:\n",
    "    ```\n",
    "    for i in range(1, 5): # start, stop\n",
    "        print(i)\n",
    "    ```\n",
    "    \n",
    "    ```\n",
    "    for i in range(1, 5, 2): # start, stop, step\n",
    "        print(i)\n",
    "    ```"
   ]
  },
  {
   "cell_type": "markdown",
   "metadata": {
    "colab_type": "text",
    "id": "CYj2tYSG1-XO"
   },
   "source": [
    "### sorted, sort\n",
    "\n",
    "Using the `sorted()` function, we can easily sort a list in ascending order. Run the code:\n",
    "```\n",
    "a = [3, 1, 7, 5, 9]\n",
    "sorted(a)\n",
    "```"
   ]
  },
  {
   "cell_type": "markdown",
   "metadata": {
    "colab_type": "text",
    "id": "KrPHgkRs1-XP"
   },
   "source": [
    "If you want to generate a descending sorted list, use this paramter (`reverse=True`) in the function:\n",
    "```\n",
    "sorted(a, reverse=True)\n",
    "```"
   ]
  },
  {
   "cell_type": "markdown",
   "metadata": {
    "colab_type": "text",
    "id": "DHktoYtU1-XQ"
   },
   "source": [
    "We can also use the `list.sort()` function. Run the code:\n",
    "```\n",
    "a.sort()\n",
    "a\n",
    "a.sort(reverse=True)\n",
    "a\n",
    "```"
   ]
  },
  {
   "cell_type": "markdown",
   "metadata": {
    "colab_type": "text",
    "id": "UXCWpQXX1-XR"
   },
   "source": [
    "Now, let's run how to sort a dictionary in Python. We've learned that the `dict()` object is a useful container that can store a collection of key-value pairs. An an example, look at the following dictionary: `myDic = {'a':1, 'b':3, 'c':2}`\n",
    "\n",
    "In the myDic object, the keys are `a`, `b`, and `c`, while the values are `1`, `2`, and `3`. By calling the `list` method on it, we can easily retrieve the keys. Run the code:\n",
    "```\n",
    "myDic = {'a':1, 'b':3, 'c':2} \n",
    "list(myDic)\n",
    "```"
   ]
  },
  {
   "cell_type": "markdown",
   "metadata": {
    "colab_type": "text",
    "id": "LAPdiFPy1-XS"
   },
   "source": [
    "But as you see the result of the list, the items are not sorted. If we want to order the dictionary object by their keys, we can use `sorted()`. Run the code:\n",
    "```\n",
    "print(sorted(myDic))\n",
    "print(sorted(list(myDic)))\n",
    "```\n",
    "\n",
    "The above two results should be same. Can you identify why?"
   ]
  },
  {
   "cell_type": "markdown",
   "metadata": {
    "colab_type": "text",
    "id": "eZS1SToI1-XU"
   },
   "source": [
    "On the other hand, if we want to order the dictionary object by their values, we can use the following example:\n",
    "```\n",
    "print(sorted(myDic.values()))\n",
    "```"
   ]
  },
  {
   "cell_type": "markdown",
   "metadata": {
    "colab_type": "text",
    "id": "xxkdsaDk1-XW"
   },
   "source": [
    "Finally, if we want to iterate the sorted dictionary by the keys, then see the following example:\n",
    "```\n",
    "for key, value in sorted(myDic.items()):\n",
    "    print(key, value)\n",
    "```"
   ]
  },
  {
   "cell_type": "markdown",
   "metadata": {
    "colab_type": "text",
    "id": "fnTSsmpQ1-XY"
   },
   "source": [
    "### zip\n",
    "This `zip()` function returns an iterator that aggregates elements from each of the iterables. For example, if we want to aggregate elements from two lists, we can use this method. Look at and run the following example:\n",
    "```\n",
    "A = [1, 2, 3]\n",
    "B = ['a', 'b', 'c']\n",
    "C = zip(A, B)\n",
    "print (list(C))\n",
    "```"
   ]
  },
  {
   "cell_type": "markdown",
   "metadata": {
    "colab_type": "text",
    "id": "xtJdZ7iV1-XZ"
   },
   "source": [
    "If the length of the iterables are not equal, `zip` creates the list of tuples of length equal to the smallest iterable. For example:\n",
    "```\n",
    "A = [1, 2, 3]\n",
    "B = ['a', 'b']\n",
    "C = zip(A, B)\n",
    "print (list(C))\n",
    "```\n",
    "\n",
    "What's the result? The length of `C` should be 2."
   ]
  },
  {
   "cell_type": "markdown",
   "metadata": {
    "colab_type": "text",
    "id": "uF3JRKTU1-Xb"
   },
   "source": [
    "Do you want to unzip a list of tutples? Don't worry! We can do it:\n",
    "```\n",
    "C = list(zip(A,B))\n",
    "newA, newB = zip(*C)\n",
    "print (newA, newB)\n",
    "```"
   ]
  },
  {
   "cell_type": "markdown",
   "metadata": {
    "colab_type": "text",
    "id": "kpPz1c0k1-Xb"
   },
   "source": [
    "### Lambda functions\n",
    "Lambda functions are anonymous functions (i.e. functions that are not bound to a name) at runtime, and we can create these functions the keyword `\"lambda\"`. \n",
    "\n",
    "The following code shows the difference between a normal function (`\"f\"`) using `def` and a lambda function (`\"g\"`):\n",
    "\n",
    "```\n",
    "def f(x): \n",
    "    return 2**x\n",
    "print (f(3))\n",
    "\n",
    "g = lambda x: 2**x\n",
    "print (g(3))\n",
    "```\n",
    "\n",
    "Run the above code."
   ]
  },
  {
   "cell_type": "markdown",
   "metadata": {
    "colab_type": "text",
    "id": "5yhyeS9k1-Xd"
   },
   "source": [
    "Can you identify differences between `f()` and `g()`? As you can see, both functions do exactly the same and can be used in the same ways. However, note that `g()` does not include a `\"return\"` statement. Also you can put a lambda definition anywhere a function is expected, and you don't need to assign it to a variablev at all."
   ]
  },
  {
   "cell_type": "markdown",
   "metadata": {
    "colab_type": "text",
    "id": "jvIPgo6r1-Xf"
   },
   "source": [
    "Let's see more examples about using a lambda function. Run the code:\n",
    "The following takes this a step further.\n",
    "\n",
    "```\n",
    "A = [2, 18, 9, 22, 17]\n",
    "print (list(filter(lambda x: x % 3 == 0, A)))\n",
    "```\n",
    "\n",
    "Referring to the above, we used a built-in function, `filter()`, and defined a lamba function to do a specific thing as an argument of the function `filter()`. Of course, we can define a normal function using `def` and then use it as an argument to `filter()`, if we're going to use it several times, or if the function is too complex for coding. \n",
    "\n",
    "However, if we need it **only once** and it looks simple, it could be better to use a lambda function. This creates very compact, yet readable code. Run the above code and check the result.\n"
   ]
  },
  {
   "cell_type": "markdown",
   "metadata": {
    "colab_type": "text",
    "collapsed": true,
    "id": "dsXf-8Zn1-Xf"
   },
   "source": [
    "# Multi-processing functions\n",
    "\n",
    "Multi-processsing is a core part of parallel programming. Given a job, in parallel programming, multiple processors are performed separately to complete the job. The job is split into the number of sub tasks and each processor is responsible for carrying out each sub task using a separate memory.\n",
    "\n",
    "The multi-processing functions in the Python's standard library has powerful features. If you wanto read about all tips and details, please refer to the following: https://docs.python.org/dev/library/multiprocessing.html.\n",
    "\n",
    "In the following, we provide a brief overview of using the `Pool` approach that we will use throughout the semester for parallel data processing. The `Pool` class is used to represent a pool of worker processes. It has methods allowing us to offload a given job to the worker processes. \n",
    "\n",
    "There are two methods that are particularly interesting:\n",
    "    - Pool.apply()\n",
    "    - Pool.map()\n",
    "    - Pool.apply_async()\n",
    "    \n",
    "Let's get started!"
   ]
  },
  {
   "cell_type": "markdown",
   "metadata": {
    "colab_type": "text",
    "id": "rJiq6qa01-Xh"
   },
   "source": [
    "First, we need to import the Python multiprocessing moddule:\n",
    "```\n",
    "import multiprocessing as mp\n",
    "```\n",
    "\n",
    "Second, we need create a Pool object by defining the number of multiple parallel precessors that will perform together for parallel processing at the same time. That is, we create an instance of Pool and tell it to create `n_processor` worker processes. \n",
    "``` \n",
    "pool = mp.Pool(processes = n_processor),\n",
    "```\n",
    "\n",
    "Third, we call the `pool.apply()` method to perform `funtionName` in parallel.\n",
    "```\n",
    "pool.apply(functionName, [argument_1, ..., argument_n]),\n",
    "```\n",
    "where `functionName` is the function that to be performed in parallel, and `argument_1, ..., argument_n` are arguments of the function `functionName`.\n"
   ]
  },
  {
   "cell_type": "markdown",
   "metadata": {
    "colab_type": "text",
    "id": "T3mYsezs1-Xh"
   },
   "source": [
    "To explain, let's look at the example and run it:\n",
    "```\n",
    "import multiprocessing as mp\n",
    "\n",
    "def cube(x):\n",
    "    return x**3\n",
    "\n",
    "pool = mp.Pool(processes = 2)\n",
    "\n",
    "results = [pool.apply(cube, [x]) for x in range (1,5)]\n",
    "print(results)\n",
    "```"
   ]
  },
  {
   "cell_type": "markdown",
   "metadata": {
    "colab_type": "text",
    "id": "yB4D7QCq1-Xj"
   },
   "source": [
    "The above example shows how to calculate cube numbers using two parallel processors. Each `pool.apply` is performed by one of the two processors. The `Pool.apply` will lock the main program until all processes are finished. It's useful if we want to obtain results in a particular order for a given application.\n",
    "\n",
    "We can also use the `pool.map()` method to map a function and an iterable to each process. In the above example, `\"results = [pool.apply(cube, [x]) for x in range (1,5)]\"` can be written as following using `pool.map()`:\n",
    "```\n",
    "results = pool.map(cube, range(1,5))\n",
    "```\n",
    "Run the code above!"
   ]
  },
  {
   "cell_type": "markdown",
   "metadata": {
    "colab_type": "text",
    "id": "tWljZR8p1-Xl"
   },
   "source": [
    "Contrast to `pool.apply()` or `pool.map()`, the `pool.apply_async()` method will submit all processes at once and retrieve the results as soon as they are finished. So, we need to use the `get()` method after calling `apply_async()` to obtain the results. Let's look at and run the following example:\n",
    "\n",
    "```\n",
    "results = [pool.apply_async(cube, [x]) for x in range (1,5)]\n",
    "output = [p.get() for p in results]\n",
    "print(output)\n",
    "```"
   ]
  },
  {
   "cell_type": "markdown",
   "metadata": {
    "colab_type": "text",
    "id": "0mMXXv5H1-Xn"
   },
   "source": [
    "**Congratulations on finishing this activity!**\n",
    "\n",
    "Having practiced today's activities, we're now ready to embark on a trip of the rest of exiciting FIT5148 activities! See you next week!"
   ]
  }
 ],
 "metadata": {
  "colab": {
   "collapsed_sections": [
    "jyViLgIm1-Wg",
    "iUHlgboc1-Wr",
    "hHDus_sL1-Wv",
    "wQbXPoC_1-Wz",
    "t2LYEhTK1-XD",
    "em0TdQFK1-XG",
    "xsELeDP41-XG",
    "3MjGnL-N1-XJ",
    "O6KZRBls1-XK",
    "wmRcx8yR1-XL",
    "BREG6Q9f1-XN",
    "CYj2tYSG1-XO",
    "fnTSsmpQ1-XY",
    "kpPz1c0k1-Xb"
   ],
   "name": "FIT5148 - Python_Instruction.ipynb",
   "provenance": [],
   "version": "0.3.2"
  },
  "kernelspec": {
   "display_name": "Python 3",
   "language": "python",
   "name": "python3"
  },
  "language_info": {
   "codemirror_mode": {
    "name": "ipython",
    "version": 3
   },
   "file_extension": ".py",
   "mimetype": "text/x-python",
   "name": "python",
   "nbconvert_exporter": "python",
   "pygments_lexer": "ipython3",
   "version": "3.7.1"
  }
 },
 "nbformat": 4,
 "nbformat_minor": 1
}
