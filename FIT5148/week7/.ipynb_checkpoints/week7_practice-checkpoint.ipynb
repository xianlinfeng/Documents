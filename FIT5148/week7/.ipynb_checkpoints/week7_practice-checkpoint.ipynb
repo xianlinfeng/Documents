{
 "cells": [
  {
   "cell_type": "code",
   "execution_count": 9,
   "metadata": {},
   "outputs": [],
   "source": [
    "import pymongo as pm \n",
    "import pprint as pp\n",
    "client = pm.MongoClient('localhost', 27017)\n",
    "# get a db\n",
    "db = client.fit5148_db\n",
    "# or db = client['fit5148_db']\n",
    "\n",
    "# get a colleciton\n",
    "FIT = db.FIT\n",
    "FIT_COMPLEX = db.FIT_COMPLEX"
   ]
  },
  {
   "cell_type": "code",
   "execution_count": 10,
   "metadata": {},
   "outputs": [
    {
     "data": {
      "text/plain": [
       "<pymongo.results.InsertOneResult at 0x7fa3f4964848>"
      ]
     },
     "execution_count": 10,
     "metadata": {},
     "output_type": "execute_result"
    }
   ],
   "source": [
    "# create a document\n",
    "FIT9135 = {\"unit_code\" : \"FIT9135\",\n",
    "\"unit_name\" : \"Network\",\n",
    "\"synopisi\" : \"THis unit will introduce the basic compponents of the network\",\n",
    "\"semester\" : [1,2],\n",
    "\"year\" : [2018,2019,2020],\n",
    "\"mark\" : 100\n",
    "}\n",
    "\n",
    "# insert a document\n",
    "FIT.insert_one(FIT9135)"
   ]
  },
  {
   "cell_type": "code",
   "execution_count": 11,
   "metadata": {},
   "outputs": [
    {
     "name": "stdout",
     "output_type": "stream",
     "text": [
      "{'_id': ObjectId('5cb2fd406c6fe6a4599c73b0'),\n",
      " 'mark': 80.0,\n",
      " 'semester': [1.0, 2.0],\n",
      " 'synopsis': 'This unit aims to provide students with the basic concepts '\n",
      "             'involved in the development of well structured software using a '\n",
      "             'programming language.',\n",
      " 'unit_code': 'FIT9131',\n",
      " 'unit_name': 'Programming',\n",
      " 'year': [2016.0, 2017.0, 2018.0]}\n"
     ]
    }
   ],
   "source": [
    "pp.pprint(FIT.find_one())"
   ]
  },
  {
   "cell_type": "code",
   "execution_count": null,
   "metadata": {},
   "outputs": [],
   "source": []
  }
 ],
 "metadata": {
  "kernelspec": {
   "display_name": "Python 3",
   "language": "python",
   "name": "python3"
  },
  "language_info": {
   "codemirror_mode": {
    "name": "ipython",
    "version": 3
   },
   "file_extension": ".py",
   "mimetype": "text/x-python",
   "name": "python",
   "nbconvert_exporter": "python",
   "pygments_lexer": "ipython3",
   "version": "3.7.3"
  }
 },
 "nbformat": 4,
 "nbformat_minor": 2
}
