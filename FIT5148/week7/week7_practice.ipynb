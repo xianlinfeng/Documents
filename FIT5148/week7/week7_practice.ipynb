{
 "cells": [
  {
   "cell_type": "code",
   "execution_count": 15,
   "metadata": {},
   "outputs": [
    {
     "data": {
      "text/plain": [
       "MongoClient(host=['localhost:27017'], document_class=dict, tz_aware=False, connect=True)"
      ]
     },
     "execution_count": 15,
     "metadata": {},
     "output_type": "execute_result"
    }
   ],
   "source": [
    "import pymongo as pm \n",
    "import pprint as pp\n",
    "\n",
    "client = pm.MongoClient()\n",
    "# client = pm.MongoClient('localhost', 27017)\n",
    "# client = pm.MongoClient('mongodb://localhost:27017')\n",
    "\n",
    "# get or create a db\n",
    "# or db = client['fit5148_db']\n",
    "db = client.fit5148_db\n",
    "\n",
    "# get a colleciton\n",
    "FIT = db.FIT\n",
    "FIT_COMPLEX = db.FIT_COMPLEX\n",
    "\n",
    "client\n"
   ]
  },
  {
   "cell_type": "code",
   "execution_count": 12,
   "metadata": {},
   "outputs": [
    {
     "data": {
      "text/plain": [
       "{'_id': ObjectId('5cb2fd406c6fe6a4599c73b0'),\n",
       " 'unit_code': 'FIT9131',\n",
       " 'unit_name': 'Programming',\n",
       " 'synopsis': 'This unit aims to provide students with the basic concepts involved in the development of well structured software using a programming language.',\n",
       " 'semester': [1.0, 2.0],\n",
       " 'year': [2016.0, 2017.0, 2018.0],\n",
       " 'mark': 80.0}"
      ]
     },
     "execution_count": 12,
     "metadata": {},
     "output_type": "execute_result"
    }
   ],
   "source": [
    "# create a document\n",
    "FIT9135 = {\"unit_code\" : \"FIT9135\",\n",
    "\"unit_name\" : \"Network\",\n",
    "\"synopisi\" : \"THis unit will introduce the basic compponents of the network\",\n",
    "\"semester\" : [1,2],\n",
    "\"year\" : [2018,2019,2020],\n",
    "\"mark\" : 100\n",
    "}\n",
    "\n",
    "# insert a document\n",
    "FIT.insert_one(FIT9135)"
   ]
  },
  {
   "cell_type": "code",
   "execution_count": 11,
   "metadata": {},
   "outputs": [
    {
     "name": "stdout",
     "output_type": "stream",
     "text": [
      "{'_id': ObjectId('5cb2fd406c6fe6a4599c73b0'),\n",
      " 'mark': 80.0,\n",
      " 'semester': [1.0, 2.0],\n",
      " 'synopsis': 'This unit aims to provide students with the basic concepts '\n",
      "             'involved in the development of well structured software using a '\n",
      "             'programming language.',\n",
      " 'unit_code': 'FIT9131',\n",
      " 'unit_name': 'Programming',\n",
      " 'year': [2016.0, 2017.0, 2018.0]}\n"
     ]
    }
   ],
   "source": [
    "pp.pprint(FIT.find_one())"
   ]
  },
  {
   "cell_type": "code",
   "execution_count": 13,
   "metadata": {},
   "outputs": [
    {
     "name": "stdout",
     "output_type": "stream",
     "text": [
      "{'_id': ObjectId('5cb2ffe86c6fe6a4599c73b2'),\n",
      " 'mark': 100.0,\n",
      " 'semester': [1.0, 2.0],\n",
      " 'synopisi': 'THis unit will introduce the basic compponents of the computer '\n",
      "             'architecher',\n",
      " 'unit_code': 'FIT9134',\n",
      " 'unit_name': 'Computer Architecher',\n",
      " 'year': [2018.0, 2019.0, 2020.0]}\n"
     ]
    }
   ],
   "source": [
    "# search \n",
    "pp.pprint(FIT.find_one({\"unit_code\":\"FIT9134\"}))"
   ]
  }
 ],
 "metadata": {
  "kernelspec": {
   "display_name": "Python 3",
   "language": "python",
   "name": "python3"
  },
  "language_info": {
   "codemirror_mode": {
    "name": "ipython",
    "version": 3
   },
   "file_extension": ".py",
   "mimetype": "text/x-python",
   "name": "python",
   "nbconvert_exporter": "python",
   "pygments_lexer": "ipython3",
   "version": "3.7.3"
  }
 },
 "nbformat": 4,
 "nbformat_minor": 2
}
