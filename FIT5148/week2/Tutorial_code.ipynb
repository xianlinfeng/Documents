{
 "cells": [
  {
   "cell_type": "markdown",
   "metadata": {},
   "source": [
    "## 1. Basic Python Syntax ## "
   ]
  },
  {
   "cell_type": "code",
   "execution_count": 2,
   "metadata": {},
   "outputs": [
    {
     "name": "stdout",
     "output_type": "stream",
     "text": [
      "this is a string message 2.826\n"
     ]
    }
   ],
   "source": [
    "# 1.1 \n",
    "number = 3.14\n",
    "message = \"this is a string message\"\n",
    "print(message, 3.14-3.14/10)"
   ]
  },
  {
   "cell_type": "code",
   "execution_count": 5,
   "metadata": {},
   "outputs": [
    {
     "data": {
      "text/plain": [
       "3.6666666666666665"
      ]
     },
     "execution_count": 5,
     "metadata": {},
     "output_type": "execute_result"
    }
   ],
   "source": [
    "# Division \n",
    "11/3  # return a float number\n",
    "11//3 # return a integer number"
   ]
  },
  {
   "cell_type": "code",
   "execution_count": 6,
   "metadata": {},
   "outputs": [
    {
     "data": {
      "text/plain": [
       "32"
      ]
     },
     "execution_count": 6,
     "metadata": {},
     "output_type": "execute_result"
    }
   ],
   "source": [
    "# get the remainder and powers\n",
    "11%3 \n",
    "2**5 "
   ]
  },
  {
   "cell_type": "markdown",
   "metadata": {},
   "source": [
    "## Basic Data Structure ##"
   ]
  },
  {
   "cell_type": "code",
   "execution_count": null,
   "metadata": {},
   "outputs": [],
   "source": [
    "# String \n",
    "str = \"\"\" this is \n",
    "a message \"\"\" # can span multiple lines by using triple-quotes"
   ]
  },
  {
   "cell_type": "code",
   "execution_count": 12,
   "metadata": {},
   "outputs": [],
   "source": [
    "#list \n",
    "mylist = [1,3,4,5,6]\n",
    "mylist.append(12)\n",
    "mylist.remove(3) # or del mylist[1]\n",
    "mylist.index(5) # get the index of 5\n"
   ]
  },
  {
   "cell_type": "code",
   "execution_count": 14,
   "metadata": {},
   "outputs": [
    {
     "data": {
      "text/plain": [
       "{'a', 'b', 'c'}"
      ]
     },
     "execution_count": 14,
     "metadata": {},
     "output_type": "execute_result"
    }
   ],
   "source": [
    "# set\n",
    "A = {'a', 'b', 'c', 'c'}\n",
    "'a' in A # check the membership of an item in the set\n",
    "A = {'a', 'b', 'c'}\n",
    "B = {'a', 'd'}\n",
    "A.union(B) # (or A|B), union two sets\n",
    "A.intersection(B)  # (or A & B) intersect two sets \n",
    "A.difference(B) # (or A - B) \n",
    "\n",
    "AA = {'a', 'b'}\n",
    "BB = {'c'}\n",
    "AA.update(BB) # update can modify the origin set AA\n",
    "print(AA)\n",
    "\n",
    "\n",
    "AA = {'a', 'b'}\n",
    "BB = {'c'} \n",
    "AA.union(BB) # union won't change the set AA\n",
    "print(AA)\n"
   ]
  },
  {
   "cell_type": "markdown",
   "metadata": {},
   "source": [
    "### Dictionaries ### \n"
   ]
  },
  {
   "cell_type": "code",
   "execution_count": 16,
   "metadata": {},
   "outputs": [
    {
     "data": {
      "text/plain": [
       "dict_keys(['a', 'b'])"
      ]
     },
     "execution_count": 16,
     "metadata": {},
     "output_type": "execute_result"
    }
   ],
   "source": [
    "# key-value\n",
    "contact = {}\n",
    "contact['a'] = 1\n",
    "contact2 = {'a':1, 'b':2}\n",
    "contact3 = dict(a=1, b=2)\n",
    "contact2.keys() #get the keys\n"
   ]
  },
  {
   "cell_type": "code",
   "execution_count": null,
   "metadata": {},
   "outputs": [],
   "source": []
  }
 ],
 "metadata": {
  "kernelspec": {
   "display_name": "Python 3",
   "language": "python",
   "name": "python3"
  },
  "language_info": {
   "codemirror_mode": {
    "name": "ipython",
    "version": 3
   },
   "file_extension": ".py",
   "mimetype": "text/x-python",
   "name": "python",
   "nbconvert_exporter": "python",
   "pygments_lexer": "ipython3",
   "version": "3.7.1"
  }
 },
 "nbformat": 4,
 "nbformat_minor": 2
}
